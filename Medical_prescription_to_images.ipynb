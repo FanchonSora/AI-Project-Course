{
  "nbformat": 4,
  "nbformat_minor": 0,
  "metadata": {
    "colab": {
      "provenance": [],
      "authorship_tag": "ABX9TyP03ElEjY1Jd/MqQz9swBjt",
      "include_colab_link": true
    },
    "kernelspec": {
      "name": "python3",
      "display_name": "Python 3"
    },
    "language_info": {
      "name": "python"
    }
  },
  "cells": [
    {
      "cell_type": "markdown",
      "metadata": {
        "id": "view-in-github",
        "colab_type": "text"
      },
      "source": [
        "<a href=\"https://colab.research.google.com/github/FanchonSora/AI-Project-Course/blob/main/Medical_prescription_to_images.ipynb\" target=\"_parent\"><img src=\"https://colab.research.google.com/assets/colab-badge.svg\" alt=\"Open In Colab\"/></a>"
      ]
    },
    {
      "cell_type": "code",
      "source": [
        "# 1. Cài đặt các thư viện cần thiết và Tesseract OCR\n",
        "!sudo apt-get install tesseract-ocr -qq\n",
        "!pip install opencv-python Pillow pytesseract pandas -qq\n",
        "!pip install torch torchvision transformers easyocr sentence-transformers faiss-cpu -q\n",
        "!sudo apt-get install tesseract-ocr -qq\n",
        "!pip install easyocr pytesseract opencv-python pillow transformers sentence-transformers faiss-cpu"
      ],
      "metadata": {
        "collapsed": true,
        "id": "W7pXY50AnWoM",
        "outputId": "3a81d0f0-7654-41d4-9851-49058600e3bc",
        "colab": {
          "base_uri": "https://localhost:8080/"
        }
      },
      "execution_count": 17,
      "outputs": [
        {
          "output_type": "stream",
          "name": "stdout",
          "text": [
            "Requirement already satisfied: easyocr in /usr/local/lib/python3.11/dist-packages (1.7.2)\n",
            "Requirement already satisfied: pytesseract in /usr/local/lib/python3.11/dist-packages (0.3.13)\n",
            "Requirement already satisfied: opencv-python in /usr/local/lib/python3.11/dist-packages (4.11.0.86)\n",
            "Requirement already satisfied: pillow in /usr/local/lib/python3.11/dist-packages (11.1.0)\n",
            "Requirement already satisfied: transformers in /usr/local/lib/python3.11/dist-packages (4.48.3)\n",
            "Requirement already satisfied: sentence-transformers in /usr/local/lib/python3.11/dist-packages (3.4.1)\n",
            "Requirement already satisfied: faiss-cpu in /usr/local/lib/python3.11/dist-packages (1.10.0)\n",
            "Requirement already satisfied: torch in /usr/local/lib/python3.11/dist-packages (from easyocr) (2.5.1+cu124)\n",
            "Requirement already satisfied: torchvision>=0.5 in /usr/local/lib/python3.11/dist-packages (from easyocr) (0.20.1+cu124)\n",
            "Requirement already satisfied: opencv-python-headless in /usr/local/lib/python3.11/dist-packages (from easyocr) (4.11.0.86)\n",
            "Requirement already satisfied: scipy in /usr/local/lib/python3.11/dist-packages (from easyocr) (1.13.1)\n",
            "Requirement already satisfied: numpy in /usr/local/lib/python3.11/dist-packages (from easyocr) (1.26.4)\n",
            "Requirement already satisfied: scikit-image in /usr/local/lib/python3.11/dist-packages (from easyocr) (0.25.2)\n",
            "Requirement already satisfied: python-bidi in /usr/local/lib/python3.11/dist-packages (from easyocr) (0.6.6)\n",
            "Requirement already satisfied: PyYAML in /usr/local/lib/python3.11/dist-packages (from easyocr) (6.0.2)\n",
            "Requirement already satisfied: Shapely in /usr/local/lib/python3.11/dist-packages (from easyocr) (2.0.7)\n",
            "Requirement already satisfied: pyclipper in /usr/local/lib/python3.11/dist-packages (from easyocr) (1.3.0.post6)\n",
            "Requirement already satisfied: ninja in /usr/local/lib/python3.11/dist-packages (from easyocr) (1.11.1.3)\n",
            "Requirement already satisfied: packaging>=21.3 in /usr/local/lib/python3.11/dist-packages (from pytesseract) (24.2)\n",
            "Requirement already satisfied: filelock in /usr/local/lib/python3.11/dist-packages (from transformers) (3.17.0)\n",
            "Requirement already satisfied: huggingface-hub<1.0,>=0.24.0 in /usr/local/lib/python3.11/dist-packages (from transformers) (0.28.1)\n",
            "Requirement already satisfied: regex!=2019.12.17 in /usr/local/lib/python3.11/dist-packages (from transformers) (2024.11.6)\n",
            "Requirement already satisfied: requests in /usr/local/lib/python3.11/dist-packages (from transformers) (2.32.3)\n",
            "Requirement already satisfied: tokenizers<0.22,>=0.21 in /usr/local/lib/python3.11/dist-packages (from transformers) (0.21.0)\n",
            "Requirement already satisfied: safetensors>=0.4.1 in /usr/local/lib/python3.11/dist-packages (from transformers) (0.5.2)\n",
            "Requirement already satisfied: tqdm>=4.27 in /usr/local/lib/python3.11/dist-packages (from transformers) (4.67.1)\n",
            "Requirement already satisfied: scikit-learn in /usr/local/lib/python3.11/dist-packages (from sentence-transformers) (1.6.1)\n",
            "Requirement already satisfied: fsspec>=2023.5.0 in /usr/local/lib/python3.11/dist-packages (from huggingface-hub<1.0,>=0.24.0->transformers) (2024.10.0)\n",
            "Requirement already satisfied: typing-extensions>=3.7.4.3 in /usr/local/lib/python3.11/dist-packages (from huggingface-hub<1.0,>=0.24.0->transformers) (4.12.2)\n",
            "Requirement already satisfied: networkx in /usr/local/lib/python3.11/dist-packages (from torch->easyocr) (3.4.2)\n",
            "Requirement already satisfied: jinja2 in /usr/local/lib/python3.11/dist-packages (from torch->easyocr) (3.1.5)\n",
            "Requirement already satisfied: nvidia-cuda-nvrtc-cu12==12.4.127 in /usr/local/lib/python3.11/dist-packages (from torch->easyocr) (12.4.127)\n",
            "Requirement already satisfied: nvidia-cuda-runtime-cu12==12.4.127 in /usr/local/lib/python3.11/dist-packages (from torch->easyocr) (12.4.127)\n",
            "Requirement already satisfied: nvidia-cuda-cupti-cu12==12.4.127 in /usr/local/lib/python3.11/dist-packages (from torch->easyocr) (12.4.127)\n",
            "Requirement already satisfied: nvidia-cudnn-cu12==9.1.0.70 in /usr/local/lib/python3.11/dist-packages (from torch->easyocr) (9.1.0.70)\n",
            "Requirement already satisfied: nvidia-cublas-cu12==12.4.5.8 in /usr/local/lib/python3.11/dist-packages (from torch->easyocr) (12.4.5.8)\n",
            "Requirement already satisfied: nvidia-cufft-cu12==11.2.1.3 in /usr/local/lib/python3.11/dist-packages (from torch->easyocr) (11.2.1.3)\n",
            "Requirement already satisfied: nvidia-curand-cu12==10.3.5.147 in /usr/local/lib/python3.11/dist-packages (from torch->easyocr) (10.3.5.147)\n",
            "Requirement already satisfied: nvidia-cusolver-cu12==11.6.1.9 in /usr/local/lib/python3.11/dist-packages (from torch->easyocr) (11.6.1.9)\n",
            "Requirement already satisfied: nvidia-cusparse-cu12==12.3.1.170 in /usr/local/lib/python3.11/dist-packages (from torch->easyocr) (12.3.1.170)\n",
            "Requirement already satisfied: nvidia-nccl-cu12==2.21.5 in /usr/local/lib/python3.11/dist-packages (from torch->easyocr) (2.21.5)\n",
            "Requirement already satisfied: nvidia-nvtx-cu12==12.4.127 in /usr/local/lib/python3.11/dist-packages (from torch->easyocr) (12.4.127)\n",
            "Requirement already satisfied: nvidia-nvjitlink-cu12==12.4.127 in /usr/local/lib/python3.11/dist-packages (from torch->easyocr) (12.4.127)\n",
            "Requirement already satisfied: triton==3.1.0 in /usr/local/lib/python3.11/dist-packages (from torch->easyocr) (3.1.0)\n",
            "Requirement already satisfied: sympy==1.13.1 in /usr/local/lib/python3.11/dist-packages (from torch->easyocr) (1.13.1)\n",
            "Requirement already satisfied: mpmath<1.4,>=1.1.0 in /usr/local/lib/python3.11/dist-packages (from sympy==1.13.1->torch->easyocr) (1.3.0)\n",
            "Requirement already satisfied: charset-normalizer<4,>=2 in /usr/local/lib/python3.11/dist-packages (from requests->transformers) (3.4.1)\n",
            "Requirement already satisfied: idna<4,>=2.5 in /usr/local/lib/python3.11/dist-packages (from requests->transformers) (3.10)\n",
            "Requirement already satisfied: urllib3<3,>=1.21.1 in /usr/local/lib/python3.11/dist-packages (from requests->transformers) (2.3.0)\n",
            "Requirement already satisfied: certifi>=2017.4.17 in /usr/local/lib/python3.11/dist-packages (from requests->transformers) (2025.1.31)\n",
            "Requirement already satisfied: imageio!=2.35.0,>=2.33 in /usr/local/lib/python3.11/dist-packages (from scikit-image->easyocr) (2.37.0)\n",
            "Requirement already satisfied: tifffile>=2022.8.12 in /usr/local/lib/python3.11/dist-packages (from scikit-image->easyocr) (2025.2.18)\n",
            "Requirement already satisfied: lazy-loader>=0.4 in /usr/local/lib/python3.11/dist-packages (from scikit-image->easyocr) (0.4)\n",
            "Requirement already satisfied: joblib>=1.2.0 in /usr/local/lib/python3.11/dist-packages (from scikit-learn->sentence-transformers) (1.4.2)\n",
            "Requirement already satisfied: threadpoolctl>=3.1.0 in /usr/local/lib/python3.11/dist-packages (from scikit-learn->sentence-transformers) (3.5.0)\n",
            "Requirement already satisfied: MarkupSafe>=2.0 in /usr/local/lib/python3.11/dist-packages (from jinja2->torch->easyocr) (3.0.2)\n"
          ]
        }
      ]
    },
    {
      "cell_type": "code",
      "source": [
        "!pip show easyocr opencv-python PIL\n"
      ],
      "metadata": {
        "colab": {
          "base_uri": "https://localhost:8080/"
        },
        "id": "sj4O-D7e5ZpX",
        "outputId": "7455598d-114e-4476-ae06-6296e0d44890"
      },
      "execution_count": 31,
      "outputs": [
        {
          "output_type": "stream",
          "name": "stdout",
          "text": [
            "\u001b[33mWARNING: Package(s) not found: PIL\u001b[0m\u001b[33m\n",
            "\u001b[0mName: easyocr\n",
            "Version: 1.7.2\n",
            "Summary: End-to-End Multi-Lingual Optical Character Recognition (OCR) Solution\n",
            "Home-page: https://github.com/jaidedai/easyocr\n",
            "Author: Rakpong Kittinaradorn\n",
            "Author-email: r.kittinaradorn@gmail.com\n",
            "License: Apache License 2.0\n",
            "Location: /usr/local/lib/python3.11/dist-packages\n",
            "Requires: ninja, numpy, opencv-python-headless, Pillow, pyclipper, python-bidi, PyYAML, scikit-image, scipy, Shapely, torch, torchvision\n",
            "Required-by: \n",
            "---\n",
            "Name: opencv-python\n",
            "Version: 4.11.0.86\n",
            "Summary: Wrapper package for OpenCV python bindings.\n",
            "Home-page: https://github.com/opencv/opencv-python\n",
            "Author: \n",
            "Author-email: \n",
            "License: Apache 2.0\n",
            "Location: /usr/local/lib/python3.11/dist-packages\n",
            "Requires: numpy\n",
            "Required-by: dopamine_rl, imgaug\n"
          ]
        }
      ]
    },
    {
      "cell_type": "code",
      "source": [
        "# 2. Mount Google Drive chứa dữ liệu\n",
        "from google.colab import drive\n",
        "drive.mount('/content/drive')"
      ],
      "metadata": {
        "id": "tzg0fw9V0Inq",
        "outputId": "3bc8cf4d-b1e2-4c34-82d9-f481151d9960",
        "colab": {
          "base_uri": "https://localhost:8080/"
        }
      },
      "execution_count": 11,
      "outputs": [
        {
          "output_type": "stream",
          "name": "stdout",
          "text": [
            "Mounted at /content/drive\n"
          ]
        }
      ]
    },
    {
      "cell_type": "code",
      "source": [
        "# 3. Import các thư viện\n",
        "import os\n",
        "import cv2\n",
        "import pytesseract\n",
        "import easyocr\n",
        "import pandas as pd\n",
        "from PIL import Image, ImageDraw\n",
        "from transformers import pipeline\n",
        "from sentence_transformers import SentenceTransformer\n",
        "import faiss\n",
        "import numpy as np\n",
        "import torch"
      ],
      "metadata": {
        "id": "dp95FCvwnwMK"
      },
      "execution_count": 18,
      "outputs": []
    },
    {
      "cell_type": "code",
      "source": [
        "# 4. Khởi tạo các mô-đun AI\n",
        "# --------------------------------------------------------\n",
        "# a) Khởi tạo EasyOCR cho tiếng Anh.\n",
        "#    Nếu bạn muốn nhận diện ngôn ngữ khác (VD: tiếng Việt),\n",
        "#    có thể thêm mã ngôn ngữ tương ứng: ['en', 'vi']\n",
        "reader = easyocr.Reader(['en'])\n",
        "\n",
        "# b) Khởi tạo pipeline cho Named Entity Recognition (NER)\n",
        "#    Sử dụng model \"dslim/bert-base-NER\" đã được fine-tune\n",
        "ner_pipeline = pipeline(\n",
        "    \"ner\",\n",
        "    model=\"dslim/bert-base-NER\",\n",
        "    aggregation_strategy=\"simple\"\n",
        ")\n",
        "\n",
        "# c) Khởi tạo mô hình SentenceTransformer\n",
        "#    để tạo embedding vector cho tên thuốc\n",
        "sbert_model = SentenceTransformer('sentence-transformers/all-MiniLM-L6-v2')"
      ],
      "metadata": {
        "collapsed": true,
        "id": "JOXsuhmUxtYp",
        "outputId": "949e3564-b31c-4306-fb96-644ec4c56ac7",
        "colab": {
          "base_uri": "https://localhost:8080/"
        }
      },
      "execution_count": 19,
      "outputs": [
        {
          "output_type": "stream",
          "name": "stderr",
          "text": [
            "WARNING:easyocr.easyocr:Neither CUDA nor MPS are available - defaulting to CPU. Note: This module is much faster with a GPU.\n",
            "Some weights of the model checkpoint at dslim/bert-base-NER were not used when initializing BertForTokenClassification: ['bert.pooler.dense.bias', 'bert.pooler.dense.weight']\n",
            "- This IS expected if you are initializing BertForTokenClassification from the checkpoint of a model trained on another task or with another architecture (e.g. initializing a BertForSequenceClassification model from a BertForPreTraining model).\n",
            "- This IS NOT expected if you are initializing BertForTokenClassification from the checkpoint of a model that you expect to be exactly identical (initializing a BertForSequenceClassification model from a BertForSequenceClassification model).\n",
            "Device set to use cpu\n"
          ]
        }
      ]
    },
    {
      "cell_type": "code",
      "source": [
        "# 4. Định nghĩa đường dẫn tới các thư mục và file dữ liệu\n",
        "# Thư mục chứa ảnh đơn thuốc\n",
        "# Thư mục lưu các file OCR text tương ứng với ảnh đơn thuốc\n",
        "# File CSV chứa metadata của DrugBank (giả sử file có cột: drug_id, drug_name, description, [drug_image_path])\n",
        "# Định nghĩa đường dẫn tới thư mục chứa ảnh của thuốc (drug_images)\n",
        "# --------------------------------------------------------\n",
        "prescription_images_folder = '/content/drive/MyDrive/AI_Project/dataset/prescription_images'\n",
        "prescription_texts_folder = '/content/drive/MyDrive/AI_Project/dataset/prescription_texts'\n",
        "drugbank_metadata_path = '/content/drive/MyDrive/AI_Project/dataset/drugbank_metadata.csv'\n",
        "drug_images_folder = '/content/drive/MyDrive/AI_Project/dataset/drug_images'"
      ],
      "metadata": {
        "id": "XVpxIGFPoaaS"
      },
      "execution_count": 23,
      "outputs": []
    },
    {
      "cell_type": "code",
      "source": [
        "def ocr_image(image_path):\n",
        "    \"\"\"\n",
        "    Sử dụng EasyOCR để nhận diện chữ trong ảnh đơn thuốc.\n",
        "    Đầu tiên mở ảnh bằng Pillow (PIL), chuyển thành numpy array rồi gọi EasyOCR.\n",
        "    \"\"\"\n",
        "    from PIL import Image\n",
        "    import numpy as np\n",
        "    try:\n",
        "        # Mở ảnh và chuyển đổi về RGB\n",
        "        img_pil = Image.open(image_path).convert('RGB')\n",
        "        # Chuyển sang numpy array\n",
        "        img_np = np.array(img_pil)\n",
        "    except Exception as e:\n",
        "        print(\"Lỗi khi mở ảnh với PIL:\", e)\n",
        "        return \"\"\n",
        "\n",
        "    # Gọi EasyOCR với numpy array\n",
        "    result = reader.readtext(img_np, detail=0)\n",
        "    return \" \".join(result)"
      ],
      "metadata": {
        "id": "9S2oB23DyC-j"
      },
      "execution_count": 34,
      "outputs": []
    },
    {
      "cell_type": "code",
      "source": [
        "def extract_drug_names(text):\n",
        "    \"\"\"\n",
        "    Sử dụng pipeline NER (Named Entity Recognition) để tìm\n",
        "    các thực thể có nhãn MISC (thường là tên riêng,\n",
        "    có thể bao gồm tên thuốc) trong văn bản OCR.\n",
        "    \"\"\"\n",
        "    entities = ner_pipeline(text)\n",
        "    # Lọc ra những entity có label = 'MISC'\n",
        "    drug_names = [entity['word'] for entity in entities if entity['entity_group'] == 'MISC']\n",
        "    return drug_names"
      ],
      "metadata": {
        "id": "vLLgg1TjyF-i"
      },
      "execution_count": 21,
      "outputs": []
    },
    {
      "cell_type": "code",
      "source": [
        "def search_drug_info(drug_name, drugbank_df, index, drug_embeddings):\n",
        "    \"\"\"\n",
        "    Tìm kiếm thuốc gần đúng nhất trong DrugBank sử dụng FAISS & Sentence Transformers.\n",
        "\n",
        "    - drug_name: Tên thuốc tìm kiếm (chuỗi).\n",
        "    - drugbank_df: DataFrame chứa metadata thuốc (mã, mô tả, v.v.).\n",
        "    - index: FAISS Index đã được xây dựng.\n",
        "    - drug_embeddings: Mảng embeddings của cột 'drug_name' trong drugbank_df.\n",
        "    \"\"\"\n",
        "    # Tạo embedding cho từ khóa tìm kiếm\n",
        "    query_embedding = sbert_model.encode(drug_name, convert_to_tensor=True).cpu().numpy()\n",
        "\n",
        "    # Tìm trong FAISS Index (top 1 kết quả)\n",
        "    D, I = index.search(query_embedding.reshape(1, -1), 1)\n",
        "\n",
        "    best_match_idx = I[0][0] if I[0][0] != -1 else None\n",
        "    if best_match_idx is not None:\n",
        "        return drugbank_df.iloc[best_match_idx]\n",
        "    else:\n",
        "        return None"
      ],
      "metadata": {
        "id": "MqkYsWRfthd2"
      },
      "execution_count": 22,
      "outputs": []
    },
    {
      "cell_type": "code",
      "source": [
        "# Đọc file CSV chứa metadata thuốc\n",
        "drugbank_df = pd.read_csv(drugbank_metadata_path, encoding='cp1252')"
      ],
      "metadata": {
        "id": "BIILTpS7wDXV"
      },
      "execution_count": 24,
      "outputs": []
    },
    {
      "cell_type": "code",
      "source": [
        "# 7. Xây dựng FAISS index cho cột 'drug_name'\n",
        "# Tạo embeddings cho tất cả tên thuốc trong DataFrame\n",
        "drug_embeddings = sbert_model.encode(drugbank_df['drug_name'].tolist(), convert_to_tensor=True).cpu().numpy()\n",
        "\n",
        "# Khởi tạo FAISS Index (sử dụng L2 distance)\n",
        "d = drug_embeddings.shape[1]\n",
        "index = faiss.IndexFlatL2(d)\n",
        "index.add(drug_embeddings)"
      ],
      "metadata": {
        "id": "rAfavffqwSRm"
      },
      "execution_count": 25,
      "outputs": []
    },
    {
      "cell_type": "code",
      "source": [
        "from IPython.display import display  # Đảm bảo đã import display từ IPython\n",
        "\n",
        "# 8. Vòng lặp xử lý hàng loạt ảnh đơn thuốc\n",
        "# --------------------------------------------------------\n",
        "for filename in os.listdir(prescription_images_folder):\n",
        "    if filename.lower().endswith(('.jpg', '.jpeg', '.png')):\n",
        "        image_path = os.path.join(prescription_images_folder, filename)\n",
        "        print(f\"🚀 Đang xử lý ảnh đơn thuốc: {filename}\")\n",
        "\n",
        "        # Bước 1: OCR sử dụng hàm ocr_image\n",
        "        text = ocr_image(image_path)\n",
        "        print(f\"📄 Kết quả OCR:\\n{text}\")\n",
        "\n",
        "        # Bước 2: Trích xuất tên thuốc bằng mô hình NER\n",
        "        extracted_drugs = extract_drug_names(text)\n",
        "        print(f\"🔍 Tên thuốc nhận diện: {extracted_drugs}\")\n",
        "\n",
        "        # Bước 3: Tìm kiếm thông tin thuốc trong DrugBank (Vector Search)\n",
        "        matched_drugs = []\n",
        "        for drug in extracted_drugs:\n",
        "            drug_info = search_drug_info(drug, drugbank_df, index, drug_embeddings)\n",
        "            if drug_info is not None:\n",
        "                matched_drugs.append(drug_info)\n",
        "\n",
        "        # Bước 4: Hiển thị kết quả\n",
        "        if matched_drugs:\n",
        "            print(\"✅ **Thông tin thuốc được trích xuất:**\")\n",
        "            for drug in matched_drugs:\n",
        "                print(f\"🔹 **Tên:** {drug['drug_name']}\")\n",
        "                print(f\"💊 **Mô tả:** {drug['description']}\")\n",
        "                print(f\"🔗 **Mã DrugBank:** {drug['drug_id']}\")\n",
        "\n",
        "                # Hiển thị ảnh thuốc nếu có cột 'drug_image_path'\n",
        "                if 'drug_image_path' in drug and pd.notna(drug['drug_image_path']):\n",
        "                    # Loại bỏ ký tự \"/\" thừa ở đầu nếu có\n",
        "                    drug_img_relative = drug['drug_image_path'].lstrip(\"/\")\n",
        "                    drug_img_path = os.path.join(drug_images_folder, drug_img_relative)\n",
        "                    if os.path.exists(drug_img_path):\n",
        "                        try:\n",
        "                            # Mở ảnh bằng Pillow (PIL)\n",
        "                            drug_img = Image.open(drug_img_path)\n",
        "                            print(f\"🖼️  Ảnh thuốc: {drug_img_path}\")\n",
        "                            display(drug_img)\n",
        "                        except Exception as e:\n",
        "                            print(f\"🚨 Lỗi khi mở ảnh: {e}\")\n",
        "                    else:\n",
        "                        print(f\"🚨 Không tìm thấy ảnh cho thuốc: {drug['drug_name']}\")\n",
        "        else:\n",
        "            print(\"❌ Không tìm thấy thuốc nào khớp.\")\n",
        "\n",
        "print(\"Hoàn tất xử lý tất cả ảnh đơn thuốc!\")\n"
      ],
      "metadata": {
        "id": "VQSnhFRI5Oam",
        "outputId": "c11dafe0-6e22-4fed-94a2-b47c1be964b2",
        "colab": {
          "base_uri": "https://localhost:8080/"
        }
      },
      "execution_count": null,
      "outputs": [
        {
          "output_type": "stream",
          "name": "stdout",
          "text": [
            "🚀 Đang xử lý ảnh đơn thuốc: 1.jpg\n",
            "📄 Kết quả OCR:\n",
            "Dr B;, Who Farmstrcct 12 Kirkvillc tel, 3876 uate Lav 1994 ttriw 0.12 m% theoh ~ M0,7 44 hlt Lm Ms/Mr Pehuiof 30 address; 7v Ye+ Agc:\n",
            "🔍 Tên thuốc nhận diện: []\n",
            "❌ Không tìm thấy thuốc nào khớp.\n",
            "🚀 Đang xử lý ảnh đơn thuốc: 10.jpg\n",
            "📄 Kết quả OCR:\n",
            "Dr; MRCP (Uk) FrCA etuese Corsultant '{Oantro! CCT (Gasto) Livat Itanuplant #euems\"b Apollo [GastRoenteroLoGy No: 46200 Gastroenterolbgisl] and Wransplanl Hepaloloqist 040 2360 77 / Fot Extn 4005i4 Emaappoontments CJi Dem0005/0 A 6 Am : 7102778809 aocpolav@gmail com yle/u To So Eve e IT MAY ConCeRn Thu U Jnlonm ~kat Mr- CK . SAmuel 6lyr | Malz Uu ccuuntly  admuttaf urdu Cau wiJh  Tp.No: 36+s88 ny He 1 (usuty  Wrdqeiy  taliis w CCU sitsaSspsu kr dh Mobs Lui akstex? sNh Axpiraben   pruumonia )  Y6 fuku  needs  lerpilal alout & -l0 768 lomblut TF Jo 6 and Kurdly do -ba hneq ckul &n kprm FFuuki; Yau DE NAVEEN POLAVABAPU RCP Ln) WRCp Eio) VacP C_vo] CCS] (Gazuoi Loas Cansuteni Trcplznl| Rd %o-2255 Hospilaly, Jubllze Hils, tt0-% , OPpo-A52 Apollo Hentth City Carpus , iglee Hills, Hydurabad 500 098  Indlal 4+91-IBO0 253 1066 Far 91-40-23608050 . anlloneahnciy @4poli0nosmizis com VaNW Jbollat eattncuvcont \"palinrezanciv apallpheanyd 1EneNWECLoood Hannnteaae aouio uruncihd Naveen Polavarapu Regd. Wu Om (kyy  dos ~ecoiyf Ancilo\n",
            "🔍 Tên thuốc nhận diện: []\n",
            "❌ Không tìm thấy thuốc nào khớp.\n",
            "🚀 Đang xử lý ảnh đơn thuốc: 125.jpg\n",
            "📄 Kết quả OCR:\n",
            "Mob 9899874855 DTalt Arz KD.B.5 (Delhl) Street Ballimaran, Delhi-110006 Tel : 23928493 CLINIC : 1430,Qasimjan e-mail: azizclinic@hotmail  com Dale 18 SL) Ret No 2 , MeacJ N- u + cekh Lbex Sheeba MoLuc Loz S' (01& aivex hJo ) +oi Scl-alla- Ltl Ixtk : 9 Uw $r 14 Ue (8k G1 0~~ L Ca-Mi bao   2 18-8-8 Lo (8-(1-19 2mu Dr: TIALAT AZIZ M.BIB.S Regd /No. MCI 4809 Jnalu) Bazo rsn Deils_ Delhi-6 'VACCIMTION # NERULISER #LAUASIHTEEION CENTER *EAR & NOSE PIERCING Resi:N-303,TAJENCLAVE, Geela colony, Delhi-110031 hcosda ~xh-y n Sheebe 1430\n",
            "🔍 Tên thuốc nhận diện: []\n",
            "❌ Không tìm thấy thuốc nào khớp.\n",
            "🚀 Đang xử lý ảnh đơn thuốc: 122.jpg\n",
            "📄 Kết quả OCR:\n",
            "Na.ac 0 20 #Q Noj * 40 06 ~xac (50 BA Suej20 Aue #& Aulx iop KJe8e ~ 4\n",
            "🔍 Tên thuốc nhận diện: []\n",
            "❌ Không tìm thấy thuốc nào khớp.\n",
            "🚀 Đang xử lý ảnh đơn thuốc: 103.jpg\n",
            "📄 Kết quả OCR:\n",
            "2\" 7 10 R G. COMBS M: Ntuutu Wulltuhler Bkg_Phon:_170 Rz hh Olre SL Phone 518 For 8cl Lvj @ocay ~ Ftn LU = 3 2-4 3 L~ C= BRANDON'S PHARMACY PRESCRIPTION   STORE 5th. Shawnce SL Phone 207 U.5Rcg:.3365 I6 dl\n",
            "🔍 Tên thuốc nhận diện: []\n",
            "❌ Không tìm thấy thuốc nào khớp.\n",
            "🚀 Đang xử lý ảnh đơn thuốc: 114.jpg\n",
            "📄 Kết quả OCR:\n",
            "Date: Li4o_20to Aptus Medical Arts WE Hansen 123 Homestead PL Suite 2 1 Searchlight; NV 89046 Name: Iyeeteive (MJF Age: 51 Address: MilkLmi_RL Wt: L R Losnian 50 Ta6s , Dispense #30 Sig: T(ake on6 4 daily in The | koe Wood ueessevee conzeo€ Refill Gix times Signature 'WE_Hansen_Ip Generic Substitution 0K DEA #: I~ 46kg milliglam motizh 'momnin\n",
            "🔍 Tên thuốc nhận diện: []\n",
            "❌ Không tìm thấy thuốc nào khớp.\n",
            "🚀 Đang xử lý ảnh đơn thuốc: 112.jpg\n",
            "📄 Kết quả OCR:\n",
            "DRES C RIPT0 V fbsaOuobi K= 7 Kona 4981 Stub JL 04t5-4-x R OmbtiL lup) O1p: \"If4 RffuNd js LCm [bexNo3r-y8 Ipflse Yurel cocio pa5ng 7rgix /0d Jia:\n",
            "🔍 Tên thuốc nhận diện: []\n",
            "❌ Không tìm thấy thuốc nào khớp.\n",
            "🚀 Đang xử lý ảnh đơn thuốc: 104.jpg\n",
            "📄 Kết quả OCR:\n",
            "D1b Ask: Sls i oi Consullant Erosicn  lal: Scc cT . Temferal Pelvadted Tn Sc lerosed Maslold ntact (Son € oufllint Naine bone Ossicle PIA Imbedante Ulv Icl\n",
            "🔍 Tên thuốc nhận diện: []\n",
            "❌ Không tìm thấy thuốc nào khớp.\n",
            "🚀 Đang xử lý ảnh đơn thuốc: 120.jpg\n",
            "📄 Kết quả OCR:\n",
            "n YiutuA_ FULL NAHE PATIENT DoRtss Lke h Ex TTREET ~lle 222 Liouo ZSCR SXil 0-0 MD SiGnTulC Adorese 1b2AL Znt 63\n",
            "🔍 Tên thuốc nhận diện: []\n",
            "❌ Không tìm thấy thuốc nào khớp.\n",
            "🚀 Đang xử lý ảnh đơn thuốc: 111.jpg\n",
            "📄 Kết quả OCR:\n",
            "s0 Ta P+f sfo I 84T Dr; Sanjeev Kumar Sharma Dr; Bharat Kumar Sharma MBBS M.D, (Ped ) Child Specialist DCH, MD, MRCP; FNNF (Neonatology) CMO Regd: No. 2093/2623 Fellowshlp in Perinatology Neonatology Phone 0532.2423450 Azuzna IJz Oate 4l (Lo, sh~ 2ez s hl usi< Fc4 0 2Qi< eiu %o sh-( Ack (1 s( 0 2+L Ie~ J2( ezd 124147 NbL 16 J ROyc 6elosi Dscu' Lhu ' daq Wd_Ik .4 t &di u Hul & %4 64 iatu ddl Tar & fTg lybrate com Wlog 67 4 4o7007359086 W7 &igt Famt 4-26, 9ajo5t 3,6, v1oTIL, 83HF RFZ? # 4R, JurR Fai 8 {TUDOPD 744 Mia: 10.00 2.00 & ddi Y14 6.00 # 8.00 *J 7m Tadlt 3aaTT?T Prf 371 (NNF) 6en dwaL\n",
            "🔍 Tên thuốc nhận diện: []\n",
            "❌ Không tìm thấy thuốc nào khớp.\n",
            "🚀 Đang xử lý ảnh đơn thuốc: 123.jpg\n",
            "📄 Kết quả OCR:\n",
            "DR; R; CombB 1t399 \"Zmuo @ihi \"fiFzo 'Hj3 (stta+ ~rx~ dyosek qp] Cszuk_@utak Emul 1Z3 77 i ccott Dou Or eaxpl 5322 734 1s 3k  12\n",
            "🔍 Tên thuốc nhận diện: []\n",
            "❌ Không tìm thấy thuốc nào khớp.\n",
            "🚀 Đang xử lý ảnh đơn thuốc: 107.jpg\n",
            "📄 Kết quả OCR:\n",
            "R 78740 3 , > & es 6wdecec af Suc L 1 E: &5 4r40 ~l Jx Uea Sau ~ as 8 < - 3 1 n Eu HARRIMAN & FOSTER, dueb Registered Pharmacists, ~ceea dut Os WAITINSVILLE, MASS. No. 324 {3-cu M: D 03 Tr ! ~is Kuxti. A;\n",
            "🔍 Tên thuốc nhận diện: []\n",
            "❌ Không tìm thấy thuốc nào khớp.\n",
            "🚀 Đang xử lý ảnh đơn thuốc: 116.jpg\n",
            "📄 Kết quả OCR:\n",
            "KAMBNENI R T A [ nGmad Ka Udcu 46|~ L odnu td u dhatrut c2 ENt Will 2021/4013 IJe 6s Co Iu (ss ep baranosa  Giu \"Letzz t He u8h (U Gfosomal Glscuc R bieclon < Lox weele 4 nleo Yec k n Dr N.APOORVA REDDX Munir Re; Na 100275 Keid End Nect Oncoiutgeon (Rcs;Uki Contutznt ENT Hezd = Ne:' Sunjery raminen] Hsp (als LeNagaiHyc-68 Ozzderabad - 500068,TS (INDIA) 0-mail; Kamineni@kapiner?0r99879998324022272_ M kaminenihospilals com A 0 $ Ratent Lumo ^ menr{ Amk head kudk (abis _ B Nagar 24022277 24022222 5\n",
            "🔍 Tên thuốc nhận diện: []\n",
            "❌ Không tìm thấy thuốc nào khớp.\n",
            "🚀 Đang xử lý ảnh đơn thuốc: 119.jpg\n",
            "📄 Kết quả OCR:\n",
            "DR BAEA #apbFLegac @oza68 HIzeer Perueug Covs 4} Riateraf  es*pev8301   #ebodeon Negdiale 9Q58, MF Egd Dbe Dale_ 12JuYE202191PILAMISL MLCMMD Hnr 'cin Noa Ooles;4LBA.095L 050 ahulc : LaxM 52 ISez: Femnalc Brought Ey Fatkers Husbands Name YIOMOD AdeeS: PITAMPURA [Catcpory (clicral JPLJ EWSI DOEHSI Sr 'itizeiesthers Contact No: Dcpartment: LMEROULNCYICASUALTY Datc [oest Itions MistoryiclinicalhreatmenVInstructions FFindines Ineestigations Time of Examination: Pulse: BQ Jmin BP MM OF hg Tempreture: Hcmatology Complaints /History 8/ - Im cbdomsr Hb ILCDLCESR Datti PLATLETS Bl: CIPT Nolio T)m /#Tv HbsAg Urint-Eaama ALBSUGAR Rlelv MICRO Biochemistry HO DRUG cvS et #aby STOTGSi Examination @N} edaleihlaub Wilm SLKEPLIRSBIN 'Jvi Jeu UUeelw Mobhmey BL. UREA BL_ SUGAR : FastPPJRand N) ehubdbchogitans bloed Gtoup Provisiona] Li m mudruldlanbw XRy ICG Treaunenulnstruction: @NTrahteue cnd Jku USG hddnrLulee Mulhiuu puquneewe penfontudts pre cwi AsvI tHeluoehep mudl metulae Hahl E Putbtee Kovy t Su Hw fevten ny Kluufusan Sxn 8 (Ko sale Linkus F; 0 _ npe : Allergy: 0a 2 @ca Jmhn iwJtw Ax51 {ex , 70\n",
            "🔍 Tên thuốc nhận diện: []\n",
            "❌ Không tìm thấy thuốc nào khớp.\n",
            "🚀 Đang xử lý ảnh đơn thuốc: 100.jpg\n",
            "📄 Kết quả OCR:\n",
            "Phone, Ind . Columbia 36 DR. W. P BAKER Physician and Surgeon Office and Residence, Keefe Building Hillman Seattle R Zzh T & Doen For @anvoei 6 27/ Coton &nevw? Pose 720 2 ai ~sg-6 Au M D COLUMBIA TAKE THIS TO CAMERONS DRUG STORE HILLMAN Columbia 84 East 4390 Columbia 44 City , T , k lutk. X V , X V /. 4al\n",
            "🔍 Tên thuốc nhận diện: []\n",
            "❌ Không tìm thấy thuốc nào khớp.\n",
            "🚀 Đang xử lý ảnh đơn thuốc: 110.jpg\n",
            "📄 Kết quả OCR:\n",
            "Kael Leep M&7 hs LSIL Ren 2 Rap Deu \"3 nyuc{ @c &~r p4 oke/eA4et, LA hek Hao Avt Nx Guovuka ck) Snolo cce f aee1 Rt 3 dlb -4ov1\n",
            "🔍 Tên thuốc nhận diện: []\n",
            "❌ Không tìm thấy thuốc nào khớp.\n",
            "🚀 Đang xử lý ảnh đơn thuốc: 117.jpg\n",
            "📄 Kết quả OCR:\n",
            "NeVceap  DEVICE FLex (tn Zam Sinna Phar Irlacy: i22M Punt nerne Stan Gute Lpm mutm 2141 Mpiche Voe 3ecnininmun Omitted doses of insulin\n",
            "🔍 Tên thuốc nhận diện: []\n",
            "❌ Không tìm thấy thuốc nào khớp.\n",
            "🚀 Đang xử lý ảnh đơn thuốc: 102.jpg\n",
            "📄 Kết quả OCR:\n",
            "Eluve :Uexy 6ql. $hed ke[ Qjv 9pe 8Gb Aeo (D 10 hssk Leq  +649 U lvasoux ( 6Fbelk neziku n Lup Rtc Gle1 Dtc QAAVE 146 ~Shvun US\n",
            "🔍 Tên thuốc nhận diện: []\n",
            "❌ Không tìm thấy thuốc nào khớp.\n",
            "🚀 Đang xử lý ảnh đơn thuốc: 109.jpg\n",
            "📄 Kết quả OCR:\n",
            "Mcdicine ALEvoI2S /L2skco Dcx anca Fmcnucn Heull (5 gnaturc Oxoile 12\"0 4ictp 7LF GMCNo_IZXtset Indicatlon Additionl Instnuqnns eVCcopA Cnzeiia ELMACAPONC Meulaines Rrroncilialion Icird€ chanac Incciico Oeasen\n",
            "🔍 Tên thuốc nhận diện: []\n",
            "❌ Không tìm thấy thuốc nào khớp.\n",
            "🚀 Đang xử lý ảnh đơn thuốc: 118.jpg\n",
            "📄 Kết quả OCR:\n",
            "llx 7 < Je uian €rd 2 $ Lewl & 7 4 nowee( 4o Aduwex Lumtt bael] Road; Chelpel, Chennal 600 031 INor76 877 , Heirlnglon Fax: 044-2836 3516 Tel 4227 7777 /2836 6666 / plicMv com prashanthhospilalzos@gmall comn Web; www:E EmaeepteMcem[ etNa CITDERSPFCIALITY HOSPITAL 8-337 Ycke1 ' Jaf XEEC7 W U\n",
            "🔍 Tên thuốc nhận diện: []\n",
            "❌ Không tìm thấy thuốc nào khớp.\n",
            "🚀 Đang xử lý ảnh đơn thuốc: 121.jpg\n",
            "📄 Kết quả OCR:\n",
            "ZaQyuUsue (0x1 A 'Ea vcele A wrll ~gly vocl\n",
            "🔍 Tên thuốc nhận diện: []\n",
            "❌ Không tìm thấy thuốc nào khớp.\n",
            "🚀 Đang xử lý ảnh đơn thuốc: 105.jpg\n",
            "📄 Kết quả OCR:\n",
            "Sir Ganga Ram Hospital Dr: Raj Kamal Agarwal Sir Ganga Ram Hospital Rajinder Nagar; New Delhi-110O60, INDIA +91-11-4225 4000 Sr: Consultant Deptt . of Anaesthesiology Medical Superintendent (Offg:) Pain Peri Operative Medicine Sir Ganga Ram Kolmet Hospital, 7-B, Pusa Road, Mobile +91 98101 52201 New Delhi-1LOOOS +91-11-45099999, (D) 45099980 E-mall kamal lagarwalzo@gmail.com To blol (T MAY CoNcERN Ag pex IcMk fhe Cenbacli Gvib tve (pba sliould b @w #ohE ISOLATloN QvCh mb   Hld   'mmpfoau It i adviged -riar euxtboeld takes ~hae madkcaton att fom ^9 DIST#NCING HAnb #YGiENED & wEtenc COLAL Mask HypRoxy CHLbRo Quine 4b0 N{ Bnc week Tae ViTHAN C bnQ tan Bnce O1 TAB 2NC 50 md onl Tag In (aer 4 ev CroCN CLPoL 6s0 ii (D< T+8 pain & coa In_Cgr cetrizine Io Once o T4e ALEx 2g Tea ~iponc 3h' 04 Ft 3en tol OF 8 PAIN Dept Residence SIR 181, Royalton Tower; Princeton Estate, DLF Phase-V, Gurugram, 'RonveRE R Marg &wideline Put telbowi pazeverde at Jot oat Doi Syrup AGARWAL Kamae RAJ[ Fo8s. a1c IanestHSioLogGy MEDicine ~PERIQPERATIVE  GANGARAMHOSPITAL  DELAFItooca  New 775g81015201\n",
            "🔍 Tên thuốc nhận diện: []\n",
            "❌ Không tìm thấy thuốc nào khớp.\n",
            "🚀 Đang xử lý ảnh đơn thuốc: 106.jpg\n",
            "📄 Kết quả OCR:\n",
            "32eK 10 coc( 32uk9 baones to €^ Nsmim _ 24 Treh 6/ 6 5-.o1 YPT Y1 f _seir 74 pac (tir( -762 24 ef2\" '7-4& 5526S08\n",
            "🔍 Tên thuốc nhận diện: []\n",
            "❌ Không tìm thấy thuốc nào khớp.\n",
            "🚀 Đang xử lý ảnh đơn thuốc: 124.jpg\n"
          ]
        }
      ]
    },
    {
      "cell_type": "markdown",
      "source": [
        "# Mục mới"
      ],
      "metadata": {
        "id": "_7v8N4v4tGWj"
      }
    }
  ]
}